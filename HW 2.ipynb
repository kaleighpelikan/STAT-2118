{
 "cells": [
  {
   "cell_type": "markdown",
   "id": "c7bbaf2e",
   "metadata": {},
   "source": [
    "# Question 1 C"
   ]
  },
  {
   "cell_type": "code",
   "execution_count": 6,
   "id": "5b7f80c2",
   "metadata": {},
   "outputs": [
    {
     "data": {
      "text/plain": [
       "\n",
       "\tOne Sample t-test\n",
       "\n",
       "data:  heartrates\n",
       "t = -3.0905, df = 13, p-value = 0.008603\n",
       "alternative hypothesis: true mean is not equal to 60\n",
       "95 percent confidence interval:\n",
       " 39.6115 56.3885\n",
       "sample estimates:\n",
       "mean of x \n",
       "       48 \n"
      ]
     },
     "metadata": {},
     "output_type": "display_data"
    }
   ],
   "source": [
    "heartrates = c(65,45,43,65,60,55,49,45,45,25,35,30,75,35)\n",
    "t.test(heartrates, mu = 60, alternative = \"two.sided\")"
   ]
  },
  {
   "cell_type": "markdown",
   "id": "c822639f",
   "metadata": {},
   "source": [
    "# Question 2 E"
   ]
  },
  {
   "cell_type": "code",
   "execution_count": 3,
   "id": "8c306ad8",
   "metadata": {},
   "outputs": [
    {
     "data": {
      "text/plain": [
       "\n",
       "Call:\n",
       "lm(formula = price ~ size)\n",
       "\n",
       "Residuals:\n",
       "      1       2       3       4       5       6 \n",
       "-0.5952  0.7762 -1.3524  1.5190  0.8905 -1.2381 \n",
       "\n",
       "Coefficients:\n",
       "            Estimate Std. Error t value Pr(>|t|)  \n",
       "(Intercept)   5.3381     1.5670   3.407   0.0271 *\n",
       "size          0.3762     0.1085   3.467   0.0257 *\n",
       "---\n",
       "Signif. codes:  0 ‘***’ 0.001 ‘**’ 0.01 ‘*’ 0.05 ‘.’ 0.1 ‘ ’ 1\n",
       "\n",
       "Residual standard error: 1.362 on 4 degrees of freedom\n",
       "Multiple R-squared:  0.7503,\tAdjusted R-squared:  0.6878 \n",
       "F-statistic: 12.02 on 1 and 4 DF,  p-value: 0.02566\n"
      ]
     },
     "metadata": {},
     "output_type": "display_data"
    }
   ],
   "source": [
    "size = c(6,9,12,15,18,21)\n",
    "price = c(7,9.5,8.5,12.5,13,12)\n",
    "reg = lm(price ~ size)\n",
    "summary(reg)"
   ]
  },
  {
   "cell_type": "code",
   "execution_count": 4,
   "id": "70e70a24",
   "metadata": {},
   "outputs": [
    {
     "data": {
      "text/html": [
       "0.866181555377611"
      ],
      "text/latex": [
       "0.866181555377611"
      ],
      "text/markdown": [
       "0.866181555377611"
      ],
      "text/plain": [
       "[1] 0.8661816"
      ]
     },
     "metadata": {},
     "output_type": "display_data"
    }
   ],
   "source": [
    "cor(size,price)"
   ]
  },
  {
   "cell_type": "code",
   "execution_count": 5,
   "id": "56eb2a46",
   "metadata": {},
   "outputs": [
    {
     "data": {
      "text/html": [
       "<table class=\"dataframe\">\n",
       "<caption>A matrix: 2 × 2 of type dbl</caption>\n",
       "<thead>\n",
       "\t<tr><th></th><th scope=col>2.5 %</th><th scope=col>97.5 %</th></tr>\n",
       "</thead>\n",
       "<tbody>\n",
       "\t<tr><th scope=row>(Intercept)</th><td>0.9875276</td><td>9.6886629</td></tr>\n",
       "\t<tr><th scope=row>size</th><td>0.0748948</td><td>0.6774861</td></tr>\n",
       "</tbody>\n",
       "</table>\n"
      ],
      "text/latex": [
       "A matrix: 2 × 2 of type dbl\n",
       "\\begin{tabular}{r|ll}\n",
       "  & 2.5 \\% & 97.5 \\%\\\\\n",
       "\\hline\n",
       "\t(Intercept) & 0.9875276 & 9.6886629\\\\\n",
       "\tsize & 0.0748948 & 0.6774861\\\\\n",
       "\\end{tabular}\n"
      ],
      "text/markdown": [
       "\n",
       "A matrix: 2 × 2 of type dbl\n",
       "\n",
       "| <!--/--> | 2.5 % | 97.5 % |\n",
       "|---|---|---|\n",
       "| (Intercept) | 0.9875276 | 9.6886629 |\n",
       "| size | 0.0748948 | 0.6774861 |\n",
       "\n"
      ],
      "text/plain": [
       "            2.5 %     97.5 %   \n",
       "(Intercept) 0.9875276 9.6886629\n",
       "size        0.0748948 0.6774861"
      ]
     },
     "metadata": {},
     "output_type": "display_data"
    }
   ],
   "source": [
    "confint(reg)"
   ]
  }
 ],
 "metadata": {
  "kernelspec": {
   "display_name": "R",
   "language": "R",
   "name": "ir"
  },
  "language_info": {
   "codemirror_mode": "r",
   "file_extension": ".r",
   "mimetype": "text/x-r-source",
   "name": "R",
   "pygments_lexer": "r",
   "version": "4.2.2"
  }
 },
 "nbformat": 4,
 "nbformat_minor": 5
}
