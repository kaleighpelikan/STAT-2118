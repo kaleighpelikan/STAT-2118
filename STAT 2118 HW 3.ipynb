{
 "cells": [
  {
   "cell_type": "markdown",
   "id": "9a8a6dab",
   "metadata": {},
   "source": [
    "# Question 2E"
   ]
  },
  {
   "cell_type": "code",
   "execution_count": 1,
   "id": "a257786e",
   "metadata": {},
   "outputs": [
    {
     "data": {
      "text/plain": [
       "\n",
       "Call:\n",
       "lm(formula = satisfaction ~ dollars)\n",
       "\n",
       "Residuals:\n",
       "    Min      1Q  Median      3Q     Max \n",
       "-4.5398 -2.0751 -0.0387  2.5949  3.6392 \n",
       "\n",
       "Coefficients:\n",
       "            Estimate Std. Error t value Pr(>|t|)  \n",
       "(Intercept)  5.75244    2.70119   2.130   0.0658 .\n",
       "dollars      0.03579    0.16503   0.217   0.8337  \n",
       "---\n",
       "Signif. codes:  0 ‘***’ 0.001 ‘**’ 0.01 ‘*’ 0.05 ‘.’ 0.1 ‘ ’ 1\n",
       "\n",
       "Residual standard error: 3.035 on 8 degrees of freedom\n",
       "Multiple R-squared:  0.005844,\tAdjusted R-squared:  -0.1184 \n",
       "F-statistic: 0.04703 on 1 and 8 DF,  p-value: 0.8337\n"
      ]
     },
     "metadata": {},
     "output_type": "display_data"
    }
   ],
   "source": [
    "dollars = c(11,18,17,15,9,5,12,19,22,25)\n",
    "satisfaction = c(6,8,10,4,9,6,3,5,2,10)\n",
    "reg = lm(satisfaction ~ dollars)\n",
    "summary(reg)"
   ]
  },
  {
   "cell_type": "markdown",
   "id": "13478bd5",
   "metadata": {},
   "source": [
    "# Question 3A"
   ]
  },
  {
   "cell_type": "code",
   "execution_count": 2,
   "id": "e583b638",
   "metadata": {},
   "outputs": [
    {
     "data": {
      "text/plain": [
       "\n",
       "Call:\n",
       "lm(formula = distance ~ age)\n",
       "\n",
       "Residuals:\n",
       "    Min      1Q  Median      3Q     Max \n",
       "-78.231 -41.710   7.646  33.552 108.831 \n",
       "\n",
       "Coefficients:\n",
       "            Estimate Std. Error t value Pr(>|t|)    \n",
       "(Intercept) 576.6819    23.4709  24.570  < 2e-16 ***\n",
       "age          -3.0068     0.4243  -7.086 1.04e-07 ***\n",
       "---\n",
       "Signif. codes:  0 ‘***’ 0.001 ‘**’ 0.01 ‘*’ 0.05 ‘.’ 0.1 ‘ ’ 1\n",
       "\n",
       "Residual standard error: 49.76 on 28 degrees of freedom\n",
       "Multiple R-squared:  0.642,\tAdjusted R-squared:  0.6292 \n",
       "F-statistic: 50.21 on 1 and 28 DF,  p-value: 1.041e-07\n"
      ]
     },
     "metadata": {},
     "output_type": "display_data"
    }
   ],
   "source": [
    "age = c(18,20,22,23,23,25,27,28,29,32,37,41,46,49,53,55,\n",
    "        63,65,66,67,68,70,71,72,73,74,75,77,79,82)\n",
    "distance = c(510,590,560,510,460,490,560,510,460,410,\n",
    "             420,460,450,380,460,420,350,420,300,410,\n",
    "             300,390,320,370,280,420,460,360,310,360)\n",
    "reg = lm(distance ~ age)\n",
    "summary(reg)"
   ]
  },
  {
   "cell_type": "markdown",
   "id": "cfdbdb9d",
   "metadata": {},
   "source": [
    "Least Squares Estimate \n",
    "\n",
    "Y = 576.6819 - 3.0068x"
   ]
  },
  {
   "cell_type": "markdown",
   "id": "36b13aaa",
   "metadata": {},
   "source": [
    "# Question 3B"
   ]
  },
  {
   "cell_type": "markdown",
   "id": "47b72871",
   "metadata": {},
   "source": [
    "The standard deviation of the error term is the residual standard error of 49.76"
   ]
  },
  {
   "cell_type": "markdown",
   "id": "c42f70c4",
   "metadata": {},
   "source": [
    "# Question 3C"
   ]
  },
  {
   "cell_type": "markdown",
   "id": "2cf163e2",
   "metadata": {},
   "source": [
    "H0: B1 = 0\n",
    "Ha: B1 does not equal 0\n",
    "\n",
    "alpha = 0.05"
   ]
  },
  {
   "cell_type": "code",
   "execution_count": 3,
   "id": "49f29535",
   "metadata": {},
   "outputs": [
    {
     "data": {
      "text/html": [
       "2.04840714179524"
      ],
      "text/latex": [
       "2.04840714179524"
      ],
      "text/markdown": [
       "2.04840714179524"
      ],
      "text/plain": [
       "[1] 2.048407"
      ]
     },
     "metadata": {},
     "output_type": "display_data"
    }
   ],
   "source": [
    "#find t(1-alpha/2, n-2)\n",
    "qt(0.975,28)"
   ]
  },
  {
   "cell_type": "code",
   "execution_count": 5,
   "id": "858ce6d5",
   "metadata": {},
   "outputs": [
    {
     "data": {
      "text/html": [
       "7.086"
      ],
      "text/latex": [
       "7.086"
      ],
      "text/markdown": [
       "7.086"
      ],
      "text/plain": [
       "[1] 7.086"
      ]
     },
     "metadata": {},
     "output_type": "display_data"
    }
   ],
   "source": [
    "#as seen in the regression model, t* = -7.086\n",
    "abs(-7.086)"
   ]
  },
  {
   "cell_type": "markdown",
   "id": "8842cc63",
   "metadata": {},
   "source": [
    "We should reject the null hypothesis because t* = 7.086 > t = 2.048. Because we reject the null hypothesis, we can conclude that there is a significant correlation between age and distance, which means that the model is useful. "
   ]
  },
  {
   "cell_type": "markdown",
   "id": "3780304b",
   "metadata": {},
   "source": [
    "# Question 3D"
   ]
  },
  {
   "cell_type": "markdown",
   "id": "f0f3dc6f",
   "metadata": {},
   "source": [
    "The R^2 value is the multiple r-squared value of 0.642. This value means that 64.2% of the total sample variance can be explained by the linear relationship between age and distance. This suggests that the model is useful because the value is high; however, the value also shows that 35.8% of the sample variance cannot be explained by the model. Overall, the R^2 value confirms that the model is useful."
   ]
  },
  {
   "cell_type": "markdown",
   "id": "3725e4d8",
   "metadata": {},
   "source": [
    "# Question 3E"
   ]
  },
  {
   "cell_type": "code",
   "execution_count": 6,
   "id": "50552eb9",
   "metadata": {},
   "outputs": [
    {
     "data": {
      "text/html": [
       "-0.801244650940787"
      ],
      "text/latex": [
       "-0.801244650940787"
      ],
      "text/markdown": [
       "-0.801244650940787"
      ],
      "text/plain": [
       "[1] -0.8012447"
      ]
     },
     "metadata": {},
     "output_type": "display_data"
    }
   ],
   "source": [
    "cor(age,distance)"
   ]
  },
  {
   "cell_type": "markdown",
   "id": "63cdf104",
   "metadata": {},
   "source": [
    "The correlation coefficient is -0.8012. This value suggests that age and distance are variables that have a strong, negative correlation. Because the correlation coefficient is strong, it suggests that the model is useful."
   ]
  },
  {
   "cell_type": "markdown",
   "id": "c15fbd8e",
   "metadata": {},
   "source": [
    "# Question 3F"
   ]
  },
  {
   "cell_type": "code",
   "execution_count": 7,
   "id": "05f62fb2",
   "metadata": {},
   "outputs": [
    {
     "data": {
      "text/html": [
       "426.3419"
      ],
      "text/latex": [
       "426.3419"
      ],
      "text/markdown": [
       "426.3419"
      ],
      "text/plain": [
       "[1] 426.3419"
      ]
     },
     "metadata": {},
     "output_type": "display_data"
    }
   ],
   "source": [
    "576.6819-3.0068*50"
   ]
  },
  {
   "cell_type": "markdown",
   "id": "a162b155",
   "metadata": {},
   "source": [
    "I would predict the distance that a 50-year-old driver can see to be 426.3419."
   ]
  },
  {
   "cell_type": "markdown",
   "id": "c82c08f1",
   "metadata": {},
   "source": [
    "# Question 3G"
   ]
  },
  {
   "cell_type": "code",
   "execution_count": 8,
   "id": "bc7fd16b",
   "metadata": {},
   "outputs": [
    {
     "data": {
      "text/html": [
       "<table class=\"dataframe\">\n",
       "<caption>A matrix: 1 × 3 of type dbl</caption>\n",
       "<thead>\n",
       "\t<tr><th></th><th scope=col>fit</th><th scope=col>lwr</th><th scope=col>upr</th></tr>\n",
       "</thead>\n",
       "<tbody>\n",
       "\t<tr><th scope=row>1</th><td>426.3402</td><td>322.7196</td><td>529.9607</td></tr>\n",
       "</tbody>\n",
       "</table>\n"
      ],
      "text/latex": [
       "A matrix: 1 × 3 of type dbl\n",
       "\\begin{tabular}{r|lll}\n",
       "  & fit & lwr & upr\\\\\n",
       "\\hline\n",
       "\t1 & 426.3402 & 322.7196 & 529.9607\\\\\n",
       "\\end{tabular}\n"
      ],
      "text/markdown": [
       "\n",
       "A matrix: 1 × 3 of type dbl\n",
       "\n",
       "| <!--/--> | fit | lwr | upr |\n",
       "|---|---|---|---|\n",
       "| 1 | 426.3402 | 322.7196 | 529.9607 |\n",
       "\n"
      ],
      "text/plain": [
       "  fit      lwr      upr     \n",
       "1 426.3402 322.7196 529.9607"
      ]
     },
     "metadata": {},
     "output_type": "display_data"
    }
   ],
   "source": [
    "age = c(18,20,22,23,23,25,27,28,29,32,37,41,46,\n",
    "        49,53,55,63,65,66,67,68,70,71,72,73,74,75,77,79,82)\n",
    "distance = c(510,590,560,510,460,490,560,510,460,410,420,460,\n",
    "             450,380,460,420,350,420,300,410,300,390,320,370,\n",
    "             280,420,460,360,310,360)\n",
    "reg = lm(distance ~ age)\n",
    "predict(reg, data.frame(age = 50), interval = \"p\")"
   ]
  },
  {
   "cell_type": "markdown",
   "id": "a8207da8",
   "metadata": {},
   "source": [
    "# Question 3H"
   ]
  },
  {
   "cell_type": "code",
   "execution_count": 9,
   "id": "66a7e9bd",
   "metadata": {},
   "outputs": [
    {
     "data": {
      "text/html": [
       "<table class=\"dataframe\">\n",
       "<caption>A matrix: 1 × 3 of type dbl</caption>\n",
       "<thead>\n",
       "\t<tr><th></th><th scope=col>fit</th><th scope=col>lwr</th><th scope=col>upr</th></tr>\n",
       "</thead>\n",
       "<tbody>\n",
       "\t<tr><th scope=row>1</th><td>426.3402</td><td>407.7097</td><td>444.9706</td></tr>\n",
       "</tbody>\n",
       "</table>\n"
      ],
      "text/latex": [
       "A matrix: 1 × 3 of type dbl\n",
       "\\begin{tabular}{r|lll}\n",
       "  & fit & lwr & upr\\\\\n",
       "\\hline\n",
       "\t1 & 426.3402 & 407.7097 & 444.9706\\\\\n",
       "\\end{tabular}\n"
      ],
      "text/markdown": [
       "\n",
       "A matrix: 1 × 3 of type dbl\n",
       "\n",
       "| <!--/--> | fit | lwr | upr |\n",
       "|---|---|---|---|\n",
       "| 1 | 426.3402 | 407.7097 | 444.9706 |\n",
       "\n"
      ],
      "text/plain": [
       "  fit      lwr      upr     \n",
       "1 426.3402 407.7097 444.9706"
      ]
     },
     "metadata": {},
     "output_type": "display_data"
    }
   ],
   "source": [
    "age = c(18,20,22,23,23,25,27,28,29,32,37,41,46,\n",
    "        49,53,55,63,65,66,67,68,70,71,72,73,74,75,77,79,82)\n",
    "distance = c(510,590,560,510,460,490,560,510,460,410,420,460,\n",
    "             450,380,460,420,350,420,300,410,300,390,320,370,\n",
    "             280,420,460,360,310,360)\n",
    "reg = lm(distance ~ age)\n",
    "predict(reg, data.frame(age = 50), interval = \"c\")"
   ]
  }
 ],
 "metadata": {
  "kernelspec": {
   "display_name": "R",
   "language": "R",
   "name": "ir"
  },
  "language_info": {
   "codemirror_mode": "r",
   "file_extension": ".r",
   "mimetype": "text/x-r-source",
   "name": "R",
   "pygments_lexer": "r",
   "version": "4.2.2"
  }
 },
 "nbformat": 4,
 "nbformat_minor": 5
}
